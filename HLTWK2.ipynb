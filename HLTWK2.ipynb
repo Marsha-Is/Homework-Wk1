Yearsinjob=int(input("How long have you been in your present job?")
if >10
    print ("Number is greater than 10")
elif <10 
    print ("Number is less than 10")