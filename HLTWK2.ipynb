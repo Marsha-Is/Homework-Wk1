{
 "cells": [
  {
   "cell_type": "code",
   "execution_count": 3,
   "source": [
    "age=int(input(\"How old is your car?\")) #Task 2\r\n",
    "if age >10: \r\n",
    "    print(\"Number is greater than 10\")\r\n",
    "if  age <10 +1:\r\n",
    "    print  (\"Your car is...\", age + 1,  \"years old\")"
   ],
   "outputs": [
    {
     "output_type": "stream",
     "name": "stdout",
     "text": [
      "Your car is... 6 years old\n"
     ]
    }
   ],
   "metadata": {}
  },
  {
   "cell_type": "code",
   "execution_count": 4,
   "source": [
    "years_driving=int(input(\"How long have you been driving?\"))#Task 1\r\n",
    "if years_driving <10:\r\n",
    "    print (\"Number is less than 10\")\r\n",
    "elif years_driving >10:\r\n",
    "    print (\"Number is more than 10\")\r\n",
    "\r\n"
   ],
   "outputs": [
    {
     "output_type": "stream",
     "name": "stdout",
     "text": [
      "Number is less than 10\n"
     ]
    }
   ],
   "metadata": {}
  },
  {
   "cell_type": "code",
   "execution_count": 5,
   "source": [
    "\r\n",
    "\r\n",
    "    print(\"fill the kettle with water\")#Task 3\r\n",
    "    print(\"boil the kettle\")\r\n",
    "    print(\"put teabag in cup\")\r\n",
    "    print(\"add hot water\")\r\n",
    "    print (\"remove teabag\")\r\n",
    "    user_milk=input(\"Would you like milk?\")\r\n",
    "    if user_milk == (\"yes\"): \r\n",
    "        print (\"milk added\")\r\n",
    "    user_sugar=input(\"Would you like sugar?\")\r\n",
    "    if user_sugar ==(\"yes\"): \r\n",
    "        print (\"sugar added\")\r\n",
    "    print(\"stir tea\")\r\n",
    "    print(\"Enjoy your tea!\")\r\n",
    "\r\n",
    "\r\n",
    "\r\n"
   ],
   "outputs": [
    {
     "output_type": "stream",
     "name": "stdout",
     "text": [
      "fill the kettle with water\n",
      "boil the kettle\n",
      "put teabag in cup\n",
      "add hot water\n",
      "remove teabag\n",
      "milk added\n",
      "stir tea\n",
      "Enjoy your tea!\n"
     ]
    }
   ],
   "metadata": {}
  },
  {
   "cell_type": "code",
   "execution_count": 6,
   "source": [
    "user_input=int(\"choose two numbers between 1 and 10\"):\r\n",
    "user_input(\"choose to / or * the two numbers\"):\r\n",
    "if user_input==(\"/\")\r\n"
   ],
   "outputs": [
    {
     "output_type": "error",
     "ename": "SyntaxError",
     "evalue": "invalid syntax (Temp/ipykernel_1504/4200465613.py, line 1)",
     "traceback": [
      "\u001b[1;36m  File \u001b[1;32m\"C:\\Users\\marsh\\AppData\\Local\\Temp/ipykernel_1504/4200465613.py\"\u001b[1;36m, line \u001b[1;32m1\u001b[0m\n\u001b[1;33m    user_input=int(\"choose two numbers between 1 and 10\"):\u001b[0m\n\u001b[1;37m                                                         ^\u001b[0m\n\u001b[1;31mSyntaxError\u001b[0m\u001b[1;31m:\u001b[0m invalid syntax\n"
     ]
    }
   ],
   "metadata": {}
  }
 ],
 "metadata": {
  "orig_nbformat": 4,
  "language_info": {
   "name": "python",
   "version": "3.9.7",
   "mimetype": "text/x-python",
   "codemirror_mode": {
    "name": "ipython",
    "version": 3
   },
   "pygments_lexer": "ipython3",
   "nbconvert_exporter": "python",
   "file_extension": ".py"
  },
  "kernelspec": {
   "name": "python3",
   "display_name": "Python 3.9.7 64-bit (windows store)"
  },
  "interpreter": {
   "hash": "e170cb0bf1b72610aebb660cd45a3f4127f349b06fa1097920a6a0edce2c37ca"
  }
 },
 "nbformat": 4,
 "nbformat_minor": 2
}