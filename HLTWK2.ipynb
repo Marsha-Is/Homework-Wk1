{
 "cells": [
  {
   "cell_type": "code",
   "execution_count": 24,
   "source": [
    "age=int(input(\"How old is your car?\")) #Task 2\r\n",
    "if age >10: \r\n",
    "    print(\"Number is greater than 10\")\r\n",
    "if  age <10 +1:\r\n",
    "    print  (\"Your car is...\", age + 1,  \"years old\"))"
   ],
   "outputs": [
    {
     "output_type": "error",
     "ename": "SyntaxError",
     "evalue": "unmatched ')' (Temp/ipykernel_2096/4288354306.py, line 5)",
     "traceback": [
      "\u001b[1;36m  File \u001b[1;32m\"C:\\Users\\marsh\\AppData\\Local\\Temp/ipykernel_2096/4288354306.py\"\u001b[1;36m, line \u001b[1;32m5\u001b[0m\n\u001b[1;33m    print  (\"Your car is...\", age + 1,  \"years old\"))\u001b[0m\n\u001b[1;37m                                                    ^\u001b[0m\n\u001b[1;31mSyntaxError\u001b[0m\u001b[1;31m:\u001b[0m unmatched ')'\n"
     ]
    }
   ],
   "metadata": {}
  },
  {
   "cell_type": "code",
   "execution_count": 6,
   "source": [
    "years_driving=int(input(\"How long have you been driving?\"))#Task 1\r\n",
    "if years_driving <10:\r\n",
    "    print (\"Number is less than 10\")\r\n",
    "elif years_driving >10:\r\n",
    "    print (\"Number is more than 10\")\r\n",
    "\r\n",
    "\r\n",
    "\r\n",
    "    print(\"fill the kettle with water\")#Task 3\r\n",
    "    print(\"boil the kettle\")\r\n",
    "    print(\"put teabag in cup\")\r\n",
    "    print(\"add hot water\")\r\n",
    "    print (\"remove teabag\")\r\n",
    "    user_milk=input(\"Would you like milk?\")\r\n",
    "    if user_milk == (\"yes\"): \r\n",
    "        print (\"milk added\")\r\n",
    "    user_sugar=input(\"Would you like sugar?\")\r\n",
    "    if user_sugar ==(\"yes\"): \r\n",
    "        print (\"sugar added\")\r\n",
    "    print(\"stir tea\")\r\n",
    "    print(\"Enjoy your tea!\")\r\n",
    "\r\n",
    "\r\n",
    "\r\n"
   ],
   "outputs": [
    {
     "output_type": "error",
     "ename": "ValueError",
     "evalue": "invalid literal for int() with base 10: ''",
     "traceback": [
      "\u001b[1;31m---------------------------------------------------------------------------\u001b[0m",
      "\u001b[1;31mValueError\u001b[0m                                Traceback (most recent call last)",
      "\u001b[1;32m~\\AppData\\Local\\Temp/ipykernel_13648/3845015593.py\u001b[0m in \u001b[0;36m<module>\u001b[1;34m\u001b[0m\n\u001b[1;32m----> 1\u001b[1;33m \u001b[0myears_driving\u001b[0m\u001b[1;33m=\u001b[0m\u001b[0mint\u001b[0m\u001b[1;33m(\u001b[0m\u001b[0minput\u001b[0m\u001b[1;33m(\u001b[0m\u001b[1;34m\"How long have you been driving?\"\u001b[0m\u001b[1;33m)\u001b[0m\u001b[1;33m)\u001b[0m\u001b[1;31m#Task 1\u001b[0m\u001b[1;33m\u001b[0m\u001b[1;33m\u001b[0m\u001b[0m\n\u001b[0m\u001b[0;32m      2\u001b[0m \u001b[1;32mif\u001b[0m \u001b[0myears_driving\u001b[0m \u001b[1;33m<\u001b[0m\u001b[1;36m10\u001b[0m\u001b[1;33m:\u001b[0m\u001b[1;33m\u001b[0m\u001b[1;33m\u001b[0m\u001b[0m\n\u001b[0;32m      3\u001b[0m     \u001b[0mprint\u001b[0m \u001b[1;33m(\u001b[0m\u001b[1;34m\"Number is less than 10\"\u001b[0m\u001b[1;33m)\u001b[0m\u001b[1;33m\u001b[0m\u001b[1;33m\u001b[0m\u001b[0m\n\u001b[0;32m      4\u001b[0m \u001b[1;32melif\u001b[0m \u001b[0myears_driving\u001b[0m \u001b[1;33m>\u001b[0m\u001b[1;36m10\u001b[0m\u001b[1;33m:\u001b[0m\u001b[1;33m\u001b[0m\u001b[1;33m\u001b[0m\u001b[0m\n\u001b[0;32m      5\u001b[0m     \u001b[0mprint\u001b[0m \u001b[1;33m(\u001b[0m\u001b[1;34m\"Number is more than 10\"\u001b[0m\u001b[1;33m)\u001b[0m\u001b[1;33m\u001b[0m\u001b[1;33m\u001b[0m\u001b[0m\n",
      "\u001b[1;31mValueError\u001b[0m: invalid literal for int() with base 10: ''"
     ]
    }
   ],
   "metadata": {}
  },
  {
   "cell_type": "code",
   "execution_count": null,
   "source": [
    "user_input=int(\"choose two numbers between 1 and 10\"):\r\n",
    "user_input(\"choose to / or * the two numbers\"):\r\n",
    "if user_input==(\"/\")\r\n"
   ],
   "outputs": [],
   "metadata": {}
  }
 ],
 "metadata": {
  "orig_nbformat": 4,
  "language_info": {
   "name": "python",
   "version": "3.9.6",
   "mimetype": "text/x-python",
   "codemirror_mode": {
    "name": "ipython",
    "version": 3
   },
   "pygments_lexer": "ipython3",
   "nbconvert_exporter": "python",
   "file_extension": ".py"
  },
  "kernelspec": {
   "name": "python3",
   "display_name": "Python 3.9.6 64-bit (windows store)"
  },
  "interpreter": {
   "hash": "e170cb0bf1b72610aebb660cd45a3f4127f349b06fa1097920a6a0edce2c37ca"
  }
 },
 "nbformat": 4,
 "nbformat_minor": 2
}