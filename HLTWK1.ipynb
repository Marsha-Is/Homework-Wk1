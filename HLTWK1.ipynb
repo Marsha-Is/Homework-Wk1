{
 "metadata": {
  "language_info": {
   "codemirror_mode": {
    "name": "ipython",
    "version": 3
   },
   "file_extension": ".py",
   "mimetype": "text/x-python",
   "name": "python",
   "nbconvert_exporter": "python",
   "pygments_lexer": "ipython3",
   "version": "3.9.6"
  },
  "orig_nbformat": 4,
  "kernelspec": {
   "name": "python3",
   "display_name": "Python 3.9.6 64-bit"
  },
  "interpreter": {
   "hash": "10fa5b18b6821efcf1a0ca8a7bbd5168ce7aee3a71c9cf3dc990838fd8f195d9"
  }
 },
 "nbformat": 4,
 "nbformat_minor": 2,
 "cells": [
  {
   "cell_type": "code",
   "execution_count": 1,
   "metadata": {},
   "outputs": [
    {
     "output_type": "stream",
     "name": "stdout",
     "text": [
      "Hello World\n"
     ]
    }
   ],
   "source": [
    "print (\"Hello World\")"
   ]
  },
  {
   "cell_type": "code",
   "execution_count": 56,
   "metadata": {},
   "outputs": [
    {
     "output_type": "execute_result",
     "data": {
      "text/plain": [
       "3"
      ]
     },
     "metadata": {},
     "execution_count": 56
    }
   ],
   "source": [
    "import random\n",
    "random.randint(1,10)"
   ]
  },
  {
   "cell_type": "code",
   "execution_count": 10,
   "metadata": {},
   "outputs": [
    {
     "output_type": "stream",
     "name": "stdout",
     "text": [
      "3\n"
     ]
    }
   ],
   "source": [
    "print(\"3\")"
   ]
  },
  {
   "cell_type": "code",
   "execution_count": 28,
   "metadata": {},
   "outputs": [
    {
     "output_type": "error",
     "ename": "TypeError",
     "evalue": "randint() missing 1 required positional argument: 'b'",
     "traceback": [
      "\u001b[1;31m---------------------------------------------------------------------------\u001b[0m",
      "\u001b[1;31mTypeError\u001b[0m                                 Traceback (most recent call last)",
      "\u001b[1;32m~\\AppData\\Local\\Temp/ipykernel_15188/1773051523.py\u001b[0m in \u001b[0;36m<module>\u001b[1;34m\u001b[0m\n\u001b[0;32m      1\u001b[0m \u001b[0muser_input\u001b[0m \u001b[1;33m=\u001b[0m \u001b[0minput\u001b[0m \u001b[1;33m(\u001b[0m\u001b[1;34m\"Hello ! what is your name?\"\u001b[0m\u001b[1;33m)\u001b[0m \u001b[1;31m#Task 1\u001b[0m\u001b[1;33m\u001b[0m\u001b[1;33m\u001b[0m\u001b[0m\n\u001b[1;32m----> 2\u001b[1;33m \u001b[0mnumber\u001b[0m \u001b[1;33m=\u001b[0m \u001b[0mrandom\u001b[0m\u001b[1;33m.\u001b[0m\u001b[0mrandint\u001b[0m\u001b[1;33m(\u001b[0m\u001b[1;34m\"1,10\"\u001b[0m\u001b[1;33m)\u001b[0m\u001b[1;33m\u001b[0m\u001b[1;33m\u001b[0m\u001b[0m\n\u001b[0m\u001b[0;32m      3\u001b[0m \u001b[0muser_input\u001b[0m \u001b[1;33m=\u001b[0m \u001b[1;33m(\u001b[0m\u001b[1;34m\"my name + guess what number I am thinking of\"\u001b[0m\u001b[1;33m)\u001b[0m\u001b[1;33m\u001b[0m\u001b[1;33m\u001b[0m\u001b[0m\n\u001b[0;32m      4\u001b[0m \u001b[1;32mimport\u001b[0m \u001b[0mrandom\u001b[0m\u001b[1;33m\u001b[0m\u001b[1;33m\u001b[0m\u001b[0m\n\u001b[0;32m      5\u001b[0m \u001b[0mrandom\u001b[0m\u001b[1;33m.\u001b[0m\u001b[0mrandint\u001b[0m\u001b[1;33m(\u001b[0m\u001b[1;34m\"1,10\"\u001b[0m\u001b[1;33m)\u001b[0m\u001b[1;33m\u001b[0m\u001b[1;33m\u001b[0m\u001b[0m\n",
      "\u001b[1;31mTypeError\u001b[0m: randint() missing 1 required positional argument: 'b'"
     ]
    }
   ],
   "source": [
    "user_input = input (\"Hello ! what is your name?\") #Task 1\n",
    "number = random.randint(\"1,10\")\n",
    "user_input = (\"guess what number I am thinking of\")\n",
    "import random\n",
    "random.randint(\"1,10\")\n",
    "if guess == number: 3\n",
    "print(\"well done\")\n",
    "\n"
   ]
  },
  {
   "cell_type": "code",
   "execution_count": 54,
   "metadata": {},
   "outputs": [
    {
     "output_type": "error",
     "ename": "SyntaxError",
     "evalue": "invalid syntax (Temp/ipykernel_8552/350450834.py, line 6)",
     "traceback": [
      "\u001b[1;36m  File \u001b[1;32m\"C:\\Users\\marsh\\AppData\\Local\\Temp/ipykernel_8552/350450834.py\"\u001b[1;36m, line \u001b[1;32m6\u001b[0m\n\u001b[1;33m    while guess = secret_number:\u001b[0m\n\u001b[1;37m                ^\u001b[0m\n\u001b[1;31mSyntaxError\u001b[0m\u001b[1;31m:\u001b[0m invalid syntax\n"
     ]
    }
   ],
   "source": [
    "name = input(\"Enter your name:\") #Task 1\n",
    "print (\"Hello\"+ name +\"!\")\n",
    "number = input(\"Guess the number I am thinking of\")\n",
    "secret_number = \"3\"\n",
    "guess = \"\"\n",
    "while guess = secret_number: \n",
    "    print(\"You win\")"
   ]
  },
  {
   "cell_type": "code",
   "execution_count": null,
   "metadata": {},
   "outputs": [],
   "source": [
    "user_input = input(\"Enter your name\") #Task 2\n",
    "print(\"Hello + name\")\n",
    "user_input = input (\"Choose your favourite number between 1 and 100\")\n",
    "import random\n",
    "random.into_int(\"1,100\")\n",
    "if choice == number:6\n",
    "print(\"Why is six scared of seven? Because seven eight nine\")\n",
    "elif choice == number:13\n",
    "print(\"what time is it if the clock strikes 13? Time to get a new clock \")\n",
    "\n"
   ]
  },
  {
   "cell_type": "code",
   "execution_count": 55,
   "metadata": {},
   "outputs": [
    {
     "output_type": "stream",
     "name": "stdout",
     "text": [
      "Your favourite meal is: \nwith a glass of \n"
     ]
    }
   ],
   "source": [
    "Starter = input (\"What is your favourite starter?\") # Task 3\n",
    "Meal = input(\"What is your favourite meal?\")\n",
    "Dessert = input(\"What is your favourite dessert\")\n",
    "Drink = input(\"What is your favourite drink\")\n",
    "Menu = Starter +  Meal +   Dessert\n",
    "print (\"Your favourite meal is: \"+ Menu)\n",
    "print (\"with a glass of \"+ Drink)"
   ]
  },
  {
   "cell_type": "code",
   "execution_count": 36,
   "metadata": {},
   "outputs": [
    {
     "output_type": "error",
     "ename": "SyntaxError",
     "evalue": "invalid syntax (Temp/ipykernel_15324/2195604859.py, line 5)",
     "traceback": [
      "\u001b[1;36m  File \u001b[1;32m\"C:\\Users\\marsh\\AppData\\Local\\Temp/ipykernel_15324/2195604859.py\"\u001b[1;36m, line \u001b[1;32m5\u001b[0m\n\u001b[1;33m    if year == +1:\u001b[0m\n\u001b[1;37m                 ^\u001b[0m\n\u001b[1;31mSyntaxError\u001b[0m\u001b[1;31m:\u001b[0m invalid syntax\n"
     ]
    }
   ],
   "source": [
    "vehicle = (\"motorbike\")\n",
    "value = (\"2000\")\n",
    "year = (\"2021\")\n",
    "print (value(*0.10)\n",
    "if year == \n",
    "    print (value(*10) \n",
    "\n",
    "\n",
    "\n"
   ]
  },
  {
   "cell_type": "code",
   "execution_count": null,
   "metadata": {},
   "outputs": [],
   "source": []
  }
 ]
}