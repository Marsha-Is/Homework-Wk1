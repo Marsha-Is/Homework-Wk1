{
 "cells": [
  {
   "cell_type": "code",
   "execution_count": 1,
   "source": [
    "my_1d_list=[1,2,3,4]\r\n",
    "print(my_1d_list)"
   ],
   "outputs": [
    {
     "output_type": "stream",
     "name": "stdout",
     "text": [
      "[1, 2, 3, 4]\n"
     ]
    }
   ],
   "metadata": {}
  },
  {
   "cell_type": "code",
   "execution_count": 10,
   "source": [
    "open(\r\n",
    "    my_file=open('numbers','a')  #Task 1    \r\n",
    "    my_file.write(str('3 45 83 21')\r\n",
    ")   my_file.close()\r\n",
    "       \r\n",
    "\r\n",
    "my_file.close()"
   ],
   "outputs": [
    {
     "output_type": "error",
     "ename": "SyntaxError",
     "evalue": "invalid syntax (Temp/ipykernel_10140/1408950372.py, line 3)",
     "traceback": [
      "\u001b[1;36m  File \u001b[1;32m\"C:\\Users\\marsh\\AppData\\Local\\Temp/ipykernel_10140/1408950372.py\"\u001b[1;36m, line \u001b[1;32m3\u001b[0m\n\u001b[1;33m    my_file.write(str('3 45 83 21')\u001b[0m\n\u001b[1;37m    ^\u001b[0m\n\u001b[1;31mSyntaxError\u001b[0m\u001b[1;31m:\u001b[0m invalid syntax\n"
     ]
    }
   ],
   "metadata": {}
  },
  {
   "cell_type": "code",
   "execution_count": 14,
   "source": [
    "grade=int(input(\"what is your target grade?: \" )) #Task 2\r\n",
    "if grade >80 and grade <100:\r\n",
    "        print ( \"Grade A, Excellent work!\")\r\n",
    "elif grade >60 and grade <80:\r\n",
    "        print (\"Grade B,Well done!\") \r\n",
    "elif grade >40 and grade <60:\r\n",
    "        print ( \"Grade C,Good try,work harder next time\")\r\n",
    "else:\r\n",
    "        print (\"Bad luck,you failed!\")"
   ],
   "outputs": [
    {
     "output_type": "stream",
     "name": "stdout",
     "text": [
      "Grade A, Excellent work!\n"
     ]
    }
   ],
   "metadata": {}
  },
  {
   "cell_type": "code",
   "execution_count": 17,
   "source": [
    "grade=int(input(\"what is your percentage mark?: \")) #Task 2 Extension\r\n",
    "def mark_grade (A ):\r\n",
    "    if mark_grade >80:\r\n",
    "      print(mark_grade (\"well done!\"))"
   ],
   "outputs": [],
   "metadata": {}
  },
  {
   "cell_type": "code",
   "execution_count": 14,
   "source": [
    "import numpy as np\r\n",
    "array = np.array([0,1,2,3,4,5,6,7,8,9])\r\n",
    "print(newArray)"
   ],
   "outputs": [
    {
     "output_type": "stream",
     "name": "stdout",
     "text": [
      "[[1 2 3]\n",
      " [4 5 6]\n",
      " [7 8 9]]\n"
     ]
    }
   ],
   "metadata": {}
  },
  {
   "cell_type": "code",
   "execution_count": 11,
   "source": [
    "import numpy as np\r\n",
    "array = np.array([1,2,3,4,5,6,7,8,9])\r\n",
    "newArray=array.reshape(3,3)\r\n",
    "print(newArray) "
   ],
   "outputs": [
    {
     "output_type": "stream",
     "name": "stdout",
     "text": [
      "[[1 2 3]\n",
      " [4 5 6]\n",
      " [7 8 9]]\n"
     ]
    }
   ],
   "metadata": {}
  },
  {
   "cell_type": "code",
   "execution_count": 25,
   "source": [
    "import numpy as np\r\n",
    "odd = np.arange(10)\r\n",
    "print(odd)"
   ],
   "outputs": [
    {
     "output_type": "stream",
     "name": "stdout",
     "text": [
      "[0 1 2 3 4 5 6 7 8 9]\n"
     ]
    }
   ],
   "metadata": {}
  },
  {
   "cell_type": "code",
   "execution_count": 27,
   "source": [
    "import numpy as np \r\n",
    "odd=np.arange(10)\r\n",
    "print (odd) \r\n",
    "print (\"subtract:\",odd -1)\r\n"
   ],
   "outputs": [
    {
     "output_type": "stream",
     "name": "stdout",
     "text": [
      "[0 1 2 3 4 5 6 7 8 9]\n",
      "subtract: [-1  0  1  2  3  4  5  6  7  8]\n"
     ]
    }
   ],
   "metadata": {}
  },
  {
   "cell_type": "code",
   "execution_count": 34,
   "source": [
    "import numpy as np\r\n",
    "array = np.array([1, 2, 3, 4])\r\n",
    "newArray = array.reshape(2, 2) \r\n",
    "print(newArray)\r\n",
    "\r\n",
    "\r\n",
    "\r\n"
   ],
   "outputs": [
    {
     "output_type": "stream",
     "name": "stdout",
     "text": [
      "[[1 2]\n",
      " [3 4]]\n"
     ]
    }
   ],
   "metadata": {}
  },
  {
   "cell_type": "code",
   "execution_count": 39,
   "source": [
    "import numpy as np\r\n",
    "a = np.arange (0,9).reshape (3,3) \r\n",
    "b = np.arange (9,18).reshape (3,3) \r\n",
    "c = np.dot(a, b)\r\n",
    "sum = np.sum(c) \r\n",
    "print(sum)"
   ],
   "outputs": [
    {
     "output_type": "stream",
     "name": "stdout",
     "text": [
      "1458\n"
     ]
    }
   ],
   "metadata": {}
  }
 ],
 "metadata": {
  "orig_nbformat": 4,
  "language_info": {
   "name": "python",
   "version": "3.9.7",
   "mimetype": "text/x-python",
   "codemirror_mode": {
    "name": "ipython",
    "version": 3
   },
   "pygments_lexer": "ipython3",
   "nbconvert_exporter": "python",
   "file_extension": ".py"
  },
  "kernelspec": {
   "name": "python3",
   "display_name": "Python 3.9.7 64-bit (windows store)"
  },
  "interpreter": {
   "hash": "e170cb0bf1b72610aebb660cd45a3f4127f349b06fa1097920a6a0edce2c37ca"
  }
 },
 "nbformat": 4,
 "nbformat_minor": 2
}